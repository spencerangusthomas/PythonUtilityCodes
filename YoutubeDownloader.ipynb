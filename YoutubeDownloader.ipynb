{
 "cells": [
  {
   "cell_type": "code",
   "execution_count": 2,
   "id": "c3f2cc0a",
   "metadata": {},
   "outputs": [
    {
     "name": "stdout",
     "output_type": "stream",
     "text": [
      "Collecting pytube\n",
      "  Using cached pytube-12.1.0-py3-none-any.whl (56 kB)\n",
      "Installing collected packages: pytube\n",
      "Successfully installed pytube-12.1.0\n",
      "Note: you may need to restart the kernel to use updated packages.\n"
     ]
    }
   ],
   "source": [
    "# Youtube downloader Tool\n",
    "%pip install pytube\n"
   ]
  },
  {
   "cell_type": "code",
   "execution_count": 5,
   "id": "0198049a",
   "metadata": {},
   "outputs": [
    {
     "name": "stdout",
     "output_type": "stream",
     "text": [
      "video downloaded\n"
     ]
    }
   ],
   "source": [
    "from pytube import YouTube\n",
    "import os\n",
    "def downloader(url):\n",
    "    yt_vid = YouTube(url).streams.filter(progressive=True)\n",
    "    yt_vid.order_by('resolution').desc().first().download()\n",
    "    print(\"video downloaded\")\n",
    "#downloader(\"https://www.youtube.com/watch?v=fbuvaOsqP-4\")\n",
    "downloader(\"https://www.youtube.com/watch?v=cbfuBex-3jE\")\n",
    "#downloader(\"https://www.youtube.com/watch?v=1wpz8m0BFM8\")\n",
    "#downloader(\"https://www.youtube.com/watch?v=ZcDLzppD4Jc\")"
   ]
  },
  {
   "cell_type": "code",
   "execution_count": null,
   "id": "ebb4f6dc",
   "metadata": {},
   "outputs": [],
   "source": [
    " "
   ]
  }
 ],
 "metadata": {
  "kernelspec": {
   "display_name": "Python 3 (ipykernel)",
   "language": "python",
   "name": "python3"
  },
  "language_info": {
   "codemirror_mode": {
    "name": "ipython",
    "version": 3
   },
   "file_extension": ".py",
   "mimetype": "text/x-python",
   "name": "python",
   "nbconvert_exporter": "python",
   "pygments_lexer": "ipython3",
   "version": "3.8.11"
  }
 },
 "nbformat": 4,
 "nbformat_minor": 5
}
